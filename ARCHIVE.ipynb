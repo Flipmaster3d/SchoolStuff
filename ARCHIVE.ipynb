{
 "cells": [
  {
   "cell_type": "markdown",
   "metadata": {},
   "source": [
    "# ARCHIVE.ipynb\n",
    "\n",
    "Contains all python scripts written in 11th grade organized in chronological order"
   ]
  },
  {
   "cell_type": "markdown",
   "metadata": {},
   "source": [
    "## April"
   ]
  },
  {
   "cell_type": "markdown",
   "metadata": {},
   "source": [
    "### Online"
   ]
  },
  {
   "cell_type": "code",
   "execution_count": 3,
   "metadata": {},
   "outputs": [
    {
     "name": "stdout",
     "output_type": "stream",
     "text": [
      "Area: 6.0\n"
     ]
    }
   ],
   "source": [
    "l = float(input(\"Length: \"))\n",
    "b = float(input(\"Breadth: \"))\n",
    "print(f\"Area: {l*b}\")"
   ]
  },
  {
   "cell_type": "code",
   "execution_count": null,
   "metadata": {},
   "outputs": [
    {
     "name": "stdout",
     "output_type": "stream",
     "text": [
      "Area: 3215.36\n",
      "Circumference: 200.96\n"
     ]
    }
   ],
   "source": [
    "r = float(input(\"Radius: \"))\n",
    "print(f\"Area: {3.14 * r**2}\\nCircumference: {2 * 3.14 * r}\")"
   ]
  },
  {
   "cell_type": "markdown",
   "metadata": {},
   "source": [
    "### 22 April"
   ]
  },
  {
   "cell_type": "code",
   "execution_count": null,
   "metadata": {},
   "outputs": [
    {
     "name": "stdout",
     "output_type": "stream",
     "text": [
      "Temperature in Celcius is:  0.0\n"
     ]
    }
   ],
   "source": [
    "temp = float(input(\"Enter temperature: \"))\n",
    "print(f\"Temperature in Celcius is:  {(temp-32)*5/9}\")"
   ]
  },
  {
   "cell_type": "code",
   "execution_count": null,
   "metadata": {},
   "outputs": [
    {
     "name": "stdout",
     "output_type": "stream",
     "text": [
      "Total: 401.64\n",
      "Percent: 80.328%\n"
     ]
    }
   ],
   "source": [
    "name = input(\"Name: \")\n",
    "marks = input(\"Enter marks (out of 100) seperated by ',': \")\n",
    "intList = [float(num) for num in marks.split(\",\")]\n",
    "print(f\"Total: {sum(intList)}\")\n",
    "print(f\"Percentage: {sum(intList)/len(intList)}\")"
   ]
  },
  {
   "cell_type": "code",
   "execution_count": null,
   "metadata": {},
   "outputs": [
    {
     "name": "stdout",
     "output_type": "stream",
     "text": [
      "3.0 feet is 36.0 inches\n"
     ]
    }
   ],
   "source": [
    "feet = float(input(\"Enter distance in feet: \"))\n",
    "print(f\"{feet} feet is {feet*12} inches\")"
   ]
  },
  {
   "cell_type": "code",
   "execution_count": null,
   "metadata": {},
   "outputs": [
    {
     "name": "stdout",
     "output_type": "stream",
     "text": [
      "Volume of cylinde is 84.78 cube units\n"
     ]
    }
   ],
   "source": [
    "r = float(input(\"Enter radius of cylinder: \"))\n",
    "h = float(input(\"Enter height of cylinder: \"))\n",
    "print(f\"Volume of cylinde is {3.14 * r**2 * h} cube units\")"
   ]
  },
  {
   "cell_type": "markdown",
   "metadata": {},
   "source": [
    "## May"
   ]
  },
  {
   "cell_type": "markdown",
   "metadata": {},
   "source": [
    "### 6 May"
   ]
  },
  {
   "cell_type": "code",
   "execution_count": null,
   "metadata": {},
   "outputs": [
    {
     "name": "stdout",
     "output_type": "stream",
     "text": [
      "0\n",
      "1\n",
      "2\n",
      "3\n",
      "4\n",
      "done\n"
     ]
    }
   ],
   "source": [
    "for i in range(5):\n",
    "    print(i)\n",
    "print(\"done\")"
   ]
  },
  {
   "cell_type": "code",
   "execution_count": null,
   "metadata": {},
   "outputs": [
    {
     "name": "stdout",
     "output_type": "stream",
     "text": [
      "\n",
      "======== TASK 1 ========\n",
      "\n",
      "5 x 1 = 5\n",
      "5 x 2 = 10\n",
      "5 x 3 = 15\n",
      "5 x 4 = 20\n",
      "5 x 5 = 25\n",
      "5 x 6 = 30\n",
      "5 x 7 = 35\n",
      "5 x 8 = 40\n",
      "5 x 9 = 45\n",
      "5 x 10 = 50\n",
      "\n",
      "======== TASK 2 ========\n",
      "\n",
      "1\n",
      "3\n",
      "5\n",
      "7\n",
      "9\n",
      "11\n",
      "13\n",
      "15\n",
      "17\n",
      "19\n",
      "21\n",
      "23\n",
      "25\n",
      "27\n",
      "29\n",
      "31\n",
      "33\n",
      "35\n",
      "37\n",
      "39\n",
      "41\n",
      "43\n",
      "45\n",
      "47\n",
      "49\n",
      "51\n",
      "53\n",
      "55\n",
      "57\n",
      "59\n",
      "61\n",
      "63\n",
      "65\n",
      "67\n",
      "69\n",
      "71\n",
      "73\n",
      "75\n",
      "77\n",
      "79\n",
      "81\n",
      "83\n",
      "85\n",
      "87\n",
      "89\n",
      "91\n",
      "93\n",
      "95\n",
      "97\n",
      "99\n",
      "\n",
      "======== TASK 3 ========\n",
      "\n",
      "Sum : 28\n",
      "\n",
      "======== TASK 1 ========\n",
      "\n",
      "0 + 1 = 1\n",
      "1 + 2 = 2\n",
      "3 + 3 = 4\n",
      "6 + 4 = 7\n",
      "10 + 5 = 11\n",
      "15 + 6 = 16\n",
      "21 + 7 = 22\n",
      "Final answer : 28\n"
     ]
    }
   ],
   "source": [
    "print(\"\\n======== TASK 1 ========\\n\")\n",
    "for i in range(10):\n",
    "    print(f\"5 x {i+1} = {5 * (i+1)}\")\n",
    "\n",
    "print(\"\\n======== TASK 2 ========\\n\")\n",
    "for i in range(1, 101, 2):\n",
    "    print(i)\n",
    "\n",
    "print(\"\\n======== TASK 3 ========\\n\")\n",
    "sum1 = 0\n",
    "for i in range(1, 8):\n",
    "    sum1 += i\n",
    "print(f\"Sum : {sum1}\")\n",
    "\n",
    "print(\"\\n======== TASK 4 ========\\n\")\n",
    "sum2 = 0\n",
    "for i in range(1, 8):\n",
    "    print(f\"{sum2} + {i} = {sum2+1}\")\n",
    "    sum2 += i\n",
    "print(f\"Final answer : {sum2}\")"
   ]
  },
  {
   "cell_type": "markdown",
   "metadata": {},
   "source": [
    "### 8 May"
   ]
  },
  {
   "cell_type": "code",
   "execution_count": null,
   "metadata": {},
   "outputs": [
    {
     "name": "stdout",
     "output_type": "stream",
     "text": [
      "Yes, 'hello   ' is in 'hellohow'\n"
     ]
    }
   ],
   "source": [
    "word = input(\"Enter word: \")\n",
    "s = input(\"Enter sentence: \")\n",
    "if word.strip().lower() in s.strip().lower():\n",
    "    print(f\"Yes, '{word}' is in '{s}'\")\n",
    "else:\n",
    "    print(f\"No, '{word}' is nowhere to be found\")"
   ]
  },
  {
   "cell_type": "code",
   "execution_count": null,
   "metadata": {},
   "outputs": [
    {
     "name": "stdout",
     "output_type": "stream",
     "text": [
      "apple\n",
      "banana\n",
      "----------\n",
      "apple\n",
      "banana\n",
      "----------\n",
      "apple\n",
      "banana\n"
     ]
    }
   ],
   "source": [
    "fruits = [\"apple\", \"banana\", \"cherry\"]\n",
    "for i in fruits:\n",
    "    print(i)\n",
    "    if i == \"banana\":\n",
    "        break\n",
    "print(\"----------\")\n",
    "for j in fruits:\n",
    "    print(j)\n",
    "    if j == \"banana\":\n",
    "        break\n",
    "        print(j)\n",
    "print(\"----------\")\n",
    "for k in fruits:\n",
    "    if k == \"banana\":\n",
    "        break\n",
    "    print(k)\n",
    "print(k)"
   ]
  },
  {
   "cell_type": "markdown",
   "metadata": {},
   "source": [
    "### 10 May\n"
   ]
  },
  {
   "cell_type": "code",
   "execution_count": null,
   "metadata": {},
   "outputs": [
    {
     "name": "stdout",
     "output_type": "stream",
     "text": [
      "1 is odd.\n",
      "3 is odd.\n",
      "5 is odd.\n",
      "\n",
      "Odd number was inputted 3 times.\n"
     ]
    }
   ],
   "source": [
    "count = 0\n",
    "for i in range(6): \n",
    "    j = int(input(\"Enter non-decimal number: \"))\n",
    "    if j % 2 != 0:\n",
    "        print(f\"{j} is odd.\")\n",
    "        count+=1\n",
    "print(f\"\\nOdd number was inputted {count} times.\")"
   ]
  },
  {
   "cell_type": "markdown",
   "metadata": {},
   "source": [
    "### 13 May"
   ]
  },
  {
   "cell_type": "code",
   "execution_count": null,
   "metadata": {},
   "outputs": [
    {
     "name": "stdout",
     "output_type": "stream",
     "text": [
      "Sum : 45\n",
      "Avg : 5.0\n"
     ]
    }
   ],
   "source": [
    "while True:\n",
    "    try:\n",
    "        a = input(\"Enter numbers seperated by commas: \")\n",
    "        l = eval(\"[\"+a+\"]\")\n",
    "        print(f\"Sum : {sum(l)}\")\n",
    "        print(f\"Avg : {sum(l)/len(l)}\")\n",
    "        break\n",
    "    except SyntaxError:\n",
    "        print(\"Please enter a valid input >:( \\n\")\n",
    "    except ZeroDivisionError:\n",
    "        print(\"Cannot have no input\")"
   ]
  },
  {
   "cell_type": "code",
   "execution_count": null,
   "metadata": {},
   "outputs": [
    {
     "name": "stdout",
     "output_type": "stream",
     "text": [
      "\n",
      "*\n",
      "**\n",
      "***\n",
      "****\n",
      "*****\n",
      "******\n",
      "*******\n",
      "********\n",
      "*********\n"
     ]
    }
   ],
   "source": [
    "for i in range(10):\n",
    "    print(\"*\"*i)"
   ]
  },
  {
   "cell_type": "markdown",
   "metadata": {},
   "source": [
    "### 14 May"
   ]
  },
  {
   "cell_type": "code",
   "execution_count": null,
   "metadata": {},
   "outputs": [],
   "source": [
    "for i in range(10):\n",
    "    n = int(input(\"Enter number: \"))\n",
    "    if n % 3 != 0:\n",
    "        continue\n",
    "    else:\n",
    "        print(f\"{n} is divisible by 3\")"
   ]
  },
  {
   "cell_type": "markdown",
   "metadata": {},
   "source": [
    "### 15 May"
   ]
  },
  {
   "cell_type": "code",
   "execution_count": null,
   "metadata": {},
   "outputs": [
    {
     "name": "stdout",
     "output_type": "stream",
     "text": [
      "5 is prime\n"
     ]
    }
   ],
   "source": [
    "n = int(input(\"Enter number: \"))\n",
    "for i in range(2,n):\n",
    "    if n%i == 0:\n",
    "        print(f\"{n} is not prime\")\n",
    "        break\n",
    "    else:\n",
    "        print(f\"{n} is prime\")\n",
    "        break"
   ]
  },
  {
   "cell_type": "code",
   "execution_count": null,
   "metadata": {},
   "outputs": [
    {
     "name": "stdout",
     "output_type": "stream",
     "text": [
      "6 is perfect\n"
     ]
    }
   ],
   "source": [
    "n = int(input(\"Enter number: \"))\n",
    "l = 1\n",
    "for i in range(2,n):\n",
    "    if n%i == 0:\n",
    "        l+=i\n",
    "if l == n:\n",
    "    print(f\"{n} is perfect\")\n",
    "else:\n",
    "    print(f\"{n} is not perfect\")"
   ]
  },
  {
   "cell_type": "markdown",
   "metadata": {},
   "source": [
    "### 16 May"
   ]
  },
  {
   "cell_type": "code",
   "execution_count": null,
   "metadata": {},
   "outputs": [
    {
     "name": "stdout",
     "output_type": "stream",
     "text": [
      "0 1 1 2 3 5 8 13 21 34 "
     ]
    }
   ],
   "source": [
    "n = int(input(\"How long the sequence should be: \"))\n",
    "a = 0\n",
    "b = 1\n",
    "c = 0\n",
    "print(a, end=\" \")\n",
    "for i in range(0, n-1):\n",
    "    a, b = b, c\n",
    "    c = a+b\n",
    "    print(c, end=\" \")"
   ]
  },
  {
   "cell_type": "markdown",
   "metadata": {},
   "source": [
    "### 22 May"
   ]
  },
  {
   "cell_type": "code",
   "execution_count": null,
   "metadata": {},
   "outputs": [
    {
     "name": "stdout",
     "output_type": "stream",
     "text": [
      "Sum: 15\n"
     ]
    }
   ],
   "source": [
    "x = int(input(\"Enter x: \"))\n",
    "n = int(input(\"Enter n: \"))\n",
    "s = 0\n",
    "for i in range(n+1):\n",
    "    s+=(x**i)\n",
    "print(f\"Sum: {s}\")"
   ]
  },
  {
   "cell_type": "code",
   "execution_count": null,
   "metadata": {},
   "outputs": [
    {
     "name": "stdout",
     "output_type": "stream",
     "text": [
      "Sum: -5\n"
     ]
    }
   ],
   "source": [
    "x = int(input(\"Enter x: \"))\n",
    "n = int(input(\"Enter n: \"))\n",
    "s = 0\n",
    "for i in range(n+1):\n",
    "    if i % 2 == 0:\n",
    "        s += (x**i)\n",
    "    else:\n",
    "        s -= (x**i)\n",
    "print(f\"Sum: {s}\")"
   ]
  },
  {
   "cell_type": "code",
   "execution_count": null,
   "metadata": {},
   "outputs": [
    {
     "name": "stdout",
     "output_type": "stream",
     "text": [
      "sum: 0.20833333333333331\n"
     ]
    }
   ],
   "source": [
    "x = int(input(\"Enter x: \"))\n",
    "n = int(input(\"Enter n: \"))\n",
    "s = 0\n",
    "temp = 1\n",
    "sign = 1\n",
    "for i in range(n+1):\n",
    "    numerator = x**i\n",
    "    temp = 1\n",
    "    if i % 2 == 0:\n",
    "        sign = -1\n",
    "    for j in range(n+1 , 1, -1):\n",
    "        temp *= j\n",
    "    denominator = temp\n",
    "    s += (sign*numerator)/(denominator)\n",
    "    sign = 1\n",
    "print(f\"sum: {s}\")"
   ]
  },
  {
   "cell_type": "markdown",
   "metadata": {},
   "source": [
    "### 27 May"
   ]
  },
  {
   "cell_type": "code",
   "execution_count": null,
   "metadata": {},
   "outputs": [
    {
     "name": "stdout",
     "output_type": "stream",
     "text": [
      "   1\n",
      "  121\n",
      " 12321\n",
      "1234321\n"
     ]
    }
   ],
   "source": [
    "s=3\n",
    "for i in range(1, 5):\n",
    "    print(\" \"*s, end=\"\")\n",
    "    for j in range(1, i):\n",
    "        print(j, end=\"\")\n",
    "    for d in range(i, 0, -1):\n",
    "        print(d, end=\"\")\n",
    "    s-=1\n",
    "    print()"
   ]
  },
  {
   "cell_type": "code",
   "execution_count": null,
   "metadata": {},
   "outputs": [
    {
     "name": "stdout",
     "output_type": "stream",
     "text": [
      "   A\n",
      "  BAB\n",
      " CBABC\n",
      "DCBABCD\n"
     ]
    }
   ],
   "source": [
    "s=3\n",
    "for i in range(65,69):\n",
    "    print(\" \"*s, end=\"\")\n",
    "    for j in range(i, 64, -1):\n",
    "        print(chr(j), end=\"\")\n",
    "    for d in range(66, i+1):\n",
    "        print(chr(d), end=\"\")\n",
    "    s-=1\n",
    "    print()"
   ]
  },
  {
   "cell_type": "code",
   "execution_count": null,
   "metadata": {},
   "outputs": [
    {
     "name": "stdout",
     "output_type": "stream",
     "text": [
      "1 4 7 10 "
     ]
    }
   ],
   "source": [
    "n = int(input(\"How long should it be: \"))\n",
    "t= -2\n",
    "for i in range(0, n):\n",
    "    print(f\"{t+3}\", end=\" \")\n",
    "    t+=3"
   ]
  },
  {
   "cell_type": "code",
   "execution_count": null,
   "metadata": {},
   "outputs": [
    {
     "name": "stdout",
     "output_type": "stream",
     "text": [
      "<=====3\n"
     ]
    }
   ],
   "source": [
    "n = int(input(\"How long should *it* be: \"))\n",
    "print(f\"<{\"=\"*n}3\")"
   ]
  },
  {
   "cell_type": "markdown",
   "metadata": {},
   "source": [
    "## June"
   ]
  },
  {
   "cell_type": "markdown",
   "metadata": {},
   "source": [
    "### 5 June"
   ]
  },
  {
   "cell_type": "code",
   "execution_count": 6,
   "metadata": {},
   "outputs": [
    {
     "name": "stdout",
     "output_type": "stream",
     "text": [
      "  *\n",
      " ***\n",
      "*****\n",
      " ***\n",
      "  *\n"
     ]
    }
   ],
   "source": [
    "s = 2\n",
    "st = 1\n",
    "for i in range(1, 4):\n",
    "    print(s*\" \", end = \"\")\n",
    "    print(st*\"*\")\n",
    "    s -= 1\n",
    "    st += 2\n",
    "s = 1\n",
    "st = 3\n",
    "for j in range(1, 3):\n",
    "    print(s*\" \", end = \"\")\n",
    "    print(st*\"*\")\n",
    "    s += 1\n",
    "    st -= 2"
   ]
  },
  {
   "cell_type": "markdown",
   "metadata": {},
   "source": [
    "### 6 Jun"
   ]
  },
  {
   "cell_type": "code",
   "execution_count": 7,
   "metadata": {},
   "outputs": [
    {
     "name": "stdout",
     "output_type": "stream",
     "text": [
      "    * \n",
      "  * * * \n",
      "* * * * * \n",
      "  * * * \n",
      "    * \n"
     ]
    }
   ],
   "source": [
    "sp = 2\n",
    "s = 1\n",
    "for i in range(3):\n",
    "    print(f\"{\"  \"*sp}{\"* \"*s}\")\n",
    "    sp -= 1\n",
    "    s += 2\n",
    "sp = 1\n",
    "s = 3\n",
    "for i in range(2):\n",
    "    print(f\"{\"  \"*sp}{\"* \"*s}\")\n",
    "    s -= 2\n",
    "    sp += 1\n"
   ]
  },
  {
   "cell_type": "code",
   "execution_count": 4,
   "metadata": {},
   "outputs": [
    {
     "name": "stdout",
     "output_type": "stream",
     "text": [
      " 1010101\n",
      "  10101\n",
      "   101\n",
      "    1\n"
     ]
    }
   ],
   "source": [
    "sp = 0\n",
    "n = 8\n",
    "for i in range(1, 5):\n",
    "    print(\" \"*sp, end = \" \")\n",
    "    for j in range(1, n):\n",
    "        print(j%2, end = \"\")\n",
    "    print()\n",
    "    n -= 2\n",
    "    sp += 1"
   ]
  },
  {
   "cell_type": "code",
   "execution_count": 3,
   "metadata": {},
   "outputs": [
    {
     "name": "stdout",
     "output_type": "stream",
     "text": [
      "*\n",
      "**\n",
      "***\n",
      "****\n",
      "*****\n",
      "*****\n",
      "****\n",
      "***\n",
      "**\n",
      "*\n"
     ]
    }
   ],
   "source": [
    "for i in range(1, 6):\n",
    "    print(\"*\"*i)\n",
    "for j in range(5, 0, -1):\n",
    "    print(\"*\"*j)"
   ]
  },
  {
   "cell_type": "markdown",
   "metadata": {},
   "source": [
    "## Summer Vacation / Journal"
   ]
  },
  {
   "cell_type": "code",
   "execution_count": 2,
   "metadata": {},
   "outputs": [
    {
     "name": "stdout",
     "output_type": "stream",
     "text": [
      "Hello Abyaz!\n"
     ]
    }
   ],
   "source": [
    "name = input(\"Enter your name: \")\n",
    "print(f\"Hello {name.capitalize()}!\")"
   ]
  },
  {
   "cell_type": "code",
   "execution_count": 1,
   "metadata": {},
   "outputs": [
    {
     "name": "stdout",
     "output_type": "stream",
     "text": [
      "Largest number: 6.0\n",
      "Smallest number: 5.0\n"
     ]
    }
   ],
   "source": [
    "a = set(eval(input(\"Enter two numbers seperated by a comma: \")))\n",
    "largest, smallest = float(max(a)), float(min(a))\n",
    "if largest != smallest:\n",
    "    print(f\"Largest number: {largest}\\nSmallest number: {smallest}\")\n",
    "else:\n",
    "    print(f\"They are equal\")"
   ]
  },
  {
   "cell_type": "code",
   "execution_count": 1,
   "metadata": {},
   "outputs": [
    {
     "name": "stdout",
     "output_type": "stream",
     "text": [
      "Final answer: 61\n"
     ]
    }
   ],
   "source": [
    "x = int(input(\"Enter the value of x: \"))\n",
    "n = int(input(\"Enter the value of n: \"))\n",
    "ans = 1\n",
    "for i in range(2, n+1):\n",
    "    ans += x**i\n",
    "print(f\"Final answer: {ans}\")"
   ]
  },
  {
   "cell_type": "code",
   "execution_count": 2,
   "metadata": {},
   "outputs": [
    {
     "name": "stdout",
     "output_type": "stream",
     "text": [
      "Final answer: 6.0\n"
     ]
    }
   ],
   "source": [
    "def fac(n):\n",
    "    a = 1\n",
    "    for i in range(n, 1, -1):\n",
    "        a * i\n",
    "    return a\n",
    "\n",
    "x = int(input(\"Enter the value of x: \"))\n",
    "n = int(input(\"Enter the value of n: \"))\n",
    "ans = 0\n",
    "for i in range(1, n+1):\n",
    "    if i % 2 == 0:\n",
    "        ans -= (x**i)/fac(i)\n",
    "    else:\n",
    "        ans += (x**i)/fac(i)\n",
    "         \n",
    "print(f\"Final answer: {ans}\")"
   ]
  },
  {
   "cell_type": "code",
   "execution_count": 3,
   "metadata": {},
   "outputs": [
    {
     "name": "stdout",
     "output_type": "stream",
     "text": [
      "\t#--------rEeee--------#\n",
      "\t|Check if number is:  |\n",
      "\t|  1. Perfect         |\n",
      "\t|  2. Armstrong       |\n",
      "\t|  3. Palindrome      |\n",
      "\t#---------------------#\n",
      "\t12321 is a palindrome\n"
     ]
    }
   ],
   "source": [
    "while True:\n",
    "    print(\"\\t#--------rEeee--------#\")\n",
    "    print(\"\\t|Check if number is:  |\")\n",
    "    print(\"\\t|  1. Perfect         |\")\n",
    "    print(\"\\t|  2. Armstrong       |\")\n",
    "    print(\"\\t|  3. Palindrome      |\")\n",
    "    print(\"\\t#---------------------#\")\n",
    "    ree = int(input(\"\\t>>> \"))\n",
    "    if ree == 1:\n",
    "        n = int(input(\"\\n\\tEnter number: \"))\n",
    "        l = 1\n",
    "        for i in range(2,n):\n",
    "            if n%i == 0:\n",
    "                l+=i\n",
    "        if l == n:\n",
    "            print(f\"\\t{n} is perfect\")\n",
    "        else:\n",
    "            print(f\"\\t{n} is not perfect\")\n",
    "        break\n",
    "    elif ree == 2:\n",
    "        n = input(\"\\n\\tEnter number: \")\n",
    "        pow_ = len(n)\n",
    "        l = 0\n",
    "        for i in n:\n",
    "            l += int(i)**pow_\n",
    "        if l == int(n):\n",
    "            print(f\"\\t{n} is an armstrong number\")\n",
    "        else:\n",
    "            print(f\"\\t{n} is not an armstrong number\")\n",
    "        break\n",
    "    elif ree == 3:\n",
    "        n = input(\"\\n\\tEnter number: \")\n",
    "        if len(n) == 1:\n",
    "            print(f\"\\t{n} is a palindrome\")\n",
    "            break\n",
    "        t = int(n)\n",
    "        l = 0\n",
    "        n = int(n)\n",
    "        for i in range(len(str(n)), 0, -1):\n",
    "            a = n%10\n",
    "            n //= 10\n",
    "            l *= 10\n",
    "            l += a\n",
    "        if l == t:\n",
    "            print(f\"\\t{t} is a palindrome\")\n",
    "        else:\n",
    "            print(f\"\\t{t} is not a palindrome\")\n",
    "        break\n",
    "    else:\n",
    "        print(\"INVALID INPUT\\nPlease try again.\")\n",
    "        print(\"\\n\\n___________________________\\n\\n\")"
   ]
  },
  {
   "cell_type": "code",
   "execution_count": 9,
   "metadata": {},
   "outputs": [
    {
     "name": "stdout",
     "output_type": "stream",
     "text": [
      "4 is not prime\n"
     ]
    }
   ],
   "source": [
    "import math\n",
    "n = int(input(\"Enter number: \"))\n",
    "isPrime = True\n",
    "if n == 1:\n",
    "    print(\"1 is neither prime nor composite\")\n",
    "elif n == 2:\n",
    "    print(\"2 is prime\")\n",
    "else:\n",
    "    for i in range(2, math.ceil(math.sqrt(n))+1):\n",
    "        if n % i == 0:\n",
    "            isPrime = False\n",
    "            break\n",
    "    print(f\"{n} is prime\") if isPrime else print(f\"{n} is not prime\")"
   ]
  },
  {
   "cell_type": "code",
   "execution_count": 10,
   "metadata": {},
   "outputs": [
    {
     "name": "stdout",
     "output_type": "stream",
     "text": [
      "0 1 1 2 3 "
     ]
    }
   ],
   "source": [
    "n = int(input(\"Enter the Enter the number of rows: \"))\n",
    "a, b = 0, 1\n",
    "for i in range(n):\n",
    "    print(a, end = \" \")\n",
    "    a, b = b, a + b"
   ]
  },
  {
   "cell_type": "code",
   "execution_count": 12,
   "metadata": {},
   "outputs": [
    {
     "name": "stdout",
     "output_type": "stream",
     "text": [
      "\tPATTERN 1\n",
      "*\n",
      "**\n",
      "***\n",
      "****\n",
      "*****\n",
      "\tPATTERN 2\n",
      "1 2 3 4 5 \n",
      "1 2 3 4 \n",
      "1 2 3 \n",
      "1 2 \n",
      "1 \n",
      "\tPATTERN 3\n",
      "A B C D E \n",
      "A B C D \n",
      "A B C \n",
      "A B \n",
      "A \n"
     ]
    }
   ],
   "source": [
    "print(\"\\tPATTERN 1\")\n",
    "n = int(input(\"Enter the number of rows:\"))\n",
    "for i in range(1, n+1):\n",
    "    print(\"*\"*i)\n",
    "\n",
    "print(\"\\tPATTERN 2\")\n",
    "n = int(input(\"Enter the number of rows:\"))\n",
    "for i in range(n, 0, -1):\n",
    "    for j in range(1, n+1):\n",
    "        print(j, end = \" \")\n",
    "    print()\n",
    "    n -= 1 \n",
    "\n",
    "print(\"\\tPATTERN 3\")\n",
    "n = int(input(\"Enter the number of rows:\"))\n",
    "for i in range(1, n+1):\n",
    "    r = 65 + n\n",
    "    for j in range(65, r):\n",
    "        print(chr(j), end = \" \")\n",
    "    print()\n",
    "    n -= 1"
   ]
  }
 ],
 "metadata": {
  "kernelspec": {
   "display_name": "Python 3",
   "language": "python",
   "name": "python3"
  },
  "language_info": {
   "codemirror_mode": {
    "name": "ipython",
    "version": 3
   },
   "file_extension": ".py",
   "mimetype": "text/x-python",
   "name": "python",
   "nbconvert_exporter": "python",
   "pygments_lexer": "ipython3",
   "version": "3.12.2"
  }
 },
 "nbformat": 4,
 "nbformat_minor": 2
}
